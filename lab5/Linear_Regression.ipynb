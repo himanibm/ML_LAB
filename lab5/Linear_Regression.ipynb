{
 "cells": [
  {
   "cell_type": "code",
   "execution_count": 1,
   "id": "2c935d06",
   "metadata": {},
   "outputs": [],
   "source": [
    "import pandas as pd\n",
    "import numpy as np"
   ]
  },
  {
   "cell_type": "code",
   "execution_count": 2,
   "id": "c4730e7b",
   "metadata": {},
   "outputs": [
    {
     "name": "stdout",
     "output_type": "stream",
     "text": [
      "19\n"
     ]
    }
   ],
   "source": [
    "dataset = pd.read_csv('dataregression.csv')\n",
    "print(len(dataset))"
   ]
  },
  {
   "cell_type": "code",
   "execution_count": 3,
   "id": "ebb5cbd4",
   "metadata": {},
   "outputs": [
    {
     "data": {
      "text/plain": [
       "Index(['feature1', 'feature2', 'value'], dtype='object')"
      ]
     },
     "execution_count": 3,
     "metadata": {},
     "output_type": "execute_result"
    }
   ],
   "source": [
    "dataset.columns"
   ]
  },
  {
   "cell_type": "code",
   "execution_count": 4,
   "id": "6f34b9aa",
   "metadata": {},
   "outputs": [],
   "source": [
    "features = ['feature1', 'feature2']"
   ]
  },
  {
   "cell_type": "code",
   "execution_count": 5,
   "id": "dfb775ba",
   "metadata": {},
   "outputs": [
    {
     "data": {
      "text/html": [
       "<div>\n",
       "<style scoped>\n",
       "    .dataframe tbody tr th:only-of-type {\n",
       "        vertical-align: middle;\n",
       "    }\n",
       "\n",
       "    .dataframe tbody tr th {\n",
       "        vertical-align: top;\n",
       "    }\n",
       "\n",
       "    .dataframe thead th {\n",
       "        text-align: right;\n",
       "    }\n",
       "</style>\n",
       "<table border=\"1\" class=\"dataframe\">\n",
       "  <thead>\n",
       "    <tr style=\"text-align: right;\">\n",
       "      <th></th>\n",
       "      <th>feature1</th>\n",
       "      <th>feature2</th>\n",
       "      <th>value</th>\n",
       "    </tr>\n",
       "  </thead>\n",
       "  <tbody>\n",
       "    <tr>\n",
       "      <th>0</th>\n",
       "      <td>2.0</td>\n",
       "      <td>0.1</td>\n",
       "      <td>7.00</td>\n",
       "    </tr>\n",
       "    <tr>\n",
       "      <th>1</th>\n",
       "      <td>2.5</td>\n",
       "      <td>0.2</td>\n",
       "      <td>7.20</td>\n",
       "    </tr>\n",
       "    <tr>\n",
       "      <th>2</th>\n",
       "      <td>3.0</td>\n",
       "      <td>0.3</td>\n",
       "      <td>7.20</td>\n",
       "    </tr>\n",
       "    <tr>\n",
       "      <th>3</th>\n",
       "      <td>3.5</td>\n",
       "      <td>0.4</td>\n",
       "      <td>7.30</td>\n",
       "    </tr>\n",
       "    <tr>\n",
       "      <th>4</th>\n",
       "      <td>4.0</td>\n",
       "      <td>0.5</td>\n",
       "      <td>7.50</td>\n",
       "    </tr>\n",
       "    <tr>\n",
       "      <th>5</th>\n",
       "      <td>4.5</td>\n",
       "      <td>0.6</td>\n",
       "      <td>7.60</td>\n",
       "    </tr>\n",
       "    <tr>\n",
       "      <th>6</th>\n",
       "      <td>5.0</td>\n",
       "      <td>0.7</td>\n",
       "      <td>7.65</td>\n",
       "    </tr>\n",
       "    <tr>\n",
       "      <th>7</th>\n",
       "      <td>5.5</td>\n",
       "      <td>0.8</td>\n",
       "      <td>7.55</td>\n",
       "    </tr>\n",
       "    <tr>\n",
       "      <th>8</th>\n",
       "      <td>6.0</td>\n",
       "      <td>0.9</td>\n",
       "      <td>7.60</td>\n",
       "    </tr>\n",
       "    <tr>\n",
       "      <th>9</th>\n",
       "      <td>6.5</td>\n",
       "      <td>1.0</td>\n",
       "      <td>7.70</td>\n",
       "    </tr>\n",
       "    <tr>\n",
       "      <th>10</th>\n",
       "      <td>7.0</td>\n",
       "      <td>1.1</td>\n",
       "      <td>7.70</td>\n",
       "    </tr>\n",
       "    <tr>\n",
       "      <th>11</th>\n",
       "      <td>7.5</td>\n",
       "      <td>1.2</td>\n",
       "      <td>7.68</td>\n",
       "    </tr>\n",
       "    <tr>\n",
       "      <th>12</th>\n",
       "      <td>8.0</td>\n",
       "      <td>1.3</td>\n",
       "      <td>7.70</td>\n",
       "    </tr>\n",
       "    <tr>\n",
       "      <th>13</th>\n",
       "      <td>8.5</td>\n",
       "      <td>1.4</td>\n",
       "      <td>7.80</td>\n",
       "    </tr>\n",
       "    <tr>\n",
       "      <th>14</th>\n",
       "      <td>9.0</td>\n",
       "      <td>1.5</td>\n",
       "      <td>7.80</td>\n",
       "    </tr>\n",
       "    <tr>\n",
       "      <th>15</th>\n",
       "      <td>9.5</td>\n",
       "      <td>1.6</td>\n",
       "      <td>7.85</td>\n",
       "    </tr>\n",
       "    <tr>\n",
       "      <th>16</th>\n",
       "      <td>10.0</td>\n",
       "      <td>1.7</td>\n",
       "      <td>7.85</td>\n",
       "    </tr>\n",
       "    <tr>\n",
       "      <th>17</th>\n",
       "      <td>10.5</td>\n",
       "      <td>1.8</td>\n",
       "      <td>7.90</td>\n",
       "    </tr>\n",
       "    <tr>\n",
       "      <th>18</th>\n",
       "      <td>11.0</td>\n",
       "      <td>1.9</td>\n",
       "      <td>7.90</td>\n",
       "    </tr>\n",
       "  </tbody>\n",
       "</table>\n",
       "</div>"
      ],
      "text/plain": [
       "    feature1  feature2  value\n",
       "0        2.0       0.1   7.00\n",
       "1        2.5       0.2   7.20\n",
       "2        3.0       0.3   7.20\n",
       "3        3.5       0.4   7.30\n",
       "4        4.0       0.5   7.50\n",
       "5        4.5       0.6   7.60\n",
       "6        5.0       0.7   7.65\n",
       "7        5.5       0.8   7.55\n",
       "8        6.0       0.9   7.60\n",
       "9        6.5       1.0   7.70\n",
       "10       7.0       1.1   7.70\n",
       "11       7.5       1.2   7.68\n",
       "12       8.0       1.3   7.70\n",
       "13       8.5       1.4   7.80\n",
       "14       9.0       1.5   7.80\n",
       "15       9.5       1.6   7.85\n",
       "16      10.0       1.7   7.85\n",
       "17      10.5       1.8   7.90\n",
       "18      11.0       1.9   7.90"
      ]
     },
     "execution_count": 5,
     "metadata": {},
     "output_type": "execute_result"
    }
   ],
   "source": [
    "dataset"
   ]
  },
  {
   "cell_type": "code",
   "execution_count": 6,
   "id": "0bbbc97a",
   "metadata": {},
   "outputs": [
    {
     "data": {
      "text/plain": [
       "<matplotlib.collections.PathCollection at 0x19de445b1f0>"
      ]
     },
     "execution_count": 6,
     "metadata": {},
     "output_type": "execute_result"
    },
    {
     "data": {
      "image/png": "[encoded data removed]",
      "text/plain": [
       "<Figure size 432x288 with 1 Axes>"
      ]
     },
     "metadata": {
      "needs_background": "light"
     },
     "output_type": "display_data"
    }
   ],
   "source": [
    "import matplotlib.pyplot as plt\n",
    "plt.scatter(range(1, len(dataset)+1), dataset['value'])"
   ]
  },
  {
   "cell_type": "code",
   "execution_count": 7,
   "id": "eaa61a7f",
   "metadata": {},
   "outputs": [],
   "source": [
    "# initial guess\n",
    "\n",
    "np.random.seed(0)\n",
    "\n",
    "theta0 = 0\n",
    "theta1 = 0\n",
    "#theta2 = 0"
   ]
  },
  {
   "cell_type": "code",
   "execution_count": 8,
   "id": "81c19009",
   "metadata": {},
   "outputs": [],
   "source": [
    "def evaluate(theta0, theta1):\n",
    "    error = 0\n",
    "    for i in range(len(dataset)):\n",
    "        output = dataset.loc[i]['value']\n",
    "        #predicted = theta0 + theta1*dataset.loc[i]['feature1'] + theta2*dataset.loc[i]['feature2']\n",
    "        predicted = theta0 + theta1*dataset.loc[i]['feature1']\n",
    "        error += (output - predicted)**2\n",
    "\n",
    "    error /= 2*len(dataset)\n",
    "    return error"
   ]
  },
  {
   "cell_type": "code",
   "execution_count": 9,
   "id": "8ce26968",
   "metadata": {},
   "outputs": [],
   "source": [
    "alpha = 0.03\n",
    "num_iterations = 3000\n",
    "n = len(dataset)\n",
    "val0 = theta0\n",
    "val1 = theta1\n",
    "for i in range(num_iterations):\n",
    "    for j in range(n):\n",
    "        output = dataset.loc[j]['value']\n",
    "        #predicted = theta0 + theta1*dataset.loc[j]['feature1'] + theta2*dataset.loc[j]['feature2']\n",
    "        predicted = theta0 + theta1*dataset.loc[j]['feature1']\n",
    "        val0 = val0 - alpha*(predicted-output)\n",
    "        val1 = val1 - alpha*(predicted-output)*dataset.loc[j]['feature1']\n",
    "        #theta2 -= alpha*(output - predicted)*dataset.loc[j]['feature2']\n",
    "    theta0 = val0/n\n",
    "    theta1 = val1/n\n",
    "    #theta2 /= n"
   ]
  },
  {
   "cell_type": "code",
   "execution_count": 10,
   "id": "87e71a4b",
   "metadata": {},
   "outputs": [
    {
     "data": {
      "text/plain": [
       "[<matplotlib.lines.Line2D at 0x19de4c0cac0>]"
      ]
     },
     "execution_count": 10,
     "metadata": {},
     "output_type": "execute_result"
    },
    {
     "data": {
      "image/png": "[encoded data removed]",
      "text/plain": [
       "<Figure size 432x288 with 1 Axes>"
      ]
     },
     "metadata": {
      "needs_background": "light"
     },
     "output_type": "display_data"
    }
   ],
   "source": [
    "predicted_values = [theta0 + theta1*dataset.loc[j]['feature1'] for j in range(len(dataset))]\n",
    "plt.scatter(range(1, len(dataset)+1), dataset['value'])\n",
    "plt.plot(predicted_values)"
   ]
  },
  {
   "cell_type": "code",
   "execution_count": null,
   "id": "7d0f8c0a",
   "metadata": {},
   "outputs": [],
   "source": []
  }
 ],
 "metadata": {
  "kernelspec": {
   "display_name": "Python 3 (ipykernel)",
   "language": "python",
   "name": "python3"
  },
  "language_info": {
   "codemirror_mode": {
    "name": "ipython",
    "version": 3
   },
   "file_extension": ".py",
   "mimetype": "text/x-python",
   "name": "python",
   "nbconvert_exporter": "python",
   "pygments_lexer": "ipython3",
   "version": "3.9.7"
  }
 },
 "nbformat": 4,
 "nbformat_minor": 5
}
